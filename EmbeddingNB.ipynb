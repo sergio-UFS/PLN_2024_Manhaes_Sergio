{
 "cells": [
  {
   "cell_type": "code",
   "execution_count": null,
   "metadata": {},
   "outputs": [],
   "source": [
    "import numpy as np\n",
    "import matplotlib.pyplot as plt\n",
    "import pandas as pd\n",
    "import chromadb\n",
    "from sentence_transformers import SentenceTransformer"
   ]
  },
  {
   "cell_type": "code",
   "execution_count": null,
   "metadata": {},
   "outputs": [],
   "source": [
    "# Importing the dataset\n",
    "dataset = pd.read_csv('VendasTesouroDireto.csv', sep=';')\n",
    "df = pd.DataFrame(dataset)\n",
    "sentences = df['Tipo Titulo']\n",
    "list_sentences = df['Tipo Titulo'].unique()\n",
    "list_sentences = list_sentences.tolist()\n",
    "print(list_sentences)\n",
    "ids = [\"id1\",\"id2\",\"id3\", \"id4\", \"id5\", \"id6\", \"id7\", \"id8\"]\n"
   ]
  },
  {
   "cell_type": "code",
   "execution_count": null,
   "metadata": {},
   "outputs": [],
   "source": [
    "\n",
    "model = SentenceTransformer('h4g3n/multilingual-MiniLM-L12-de-en-es-fr-it-nl-pl-pt')\n",
    "embeddings = model.encode(list_sentences)\n",
    "print(embeddings)"
   ]
  },
  {
   "cell_type": "code",
   "execution_count": null,
   "metadata": {},
   "outputs": [],
   "source": [
    "chroma_client = chromadb.Client()\n",
    "collection = chroma_client.create_collection(name=\"vamo\")\n",
    "collection.add(\n",
    "    documents=list_sentences,\n",
    "    ids=ids,\n",
    ")"
   ]
  }
 ],
 "metadata": {
  "kernelspec": {
   "display_name": "Python 3",
   "language": "python",
   "name": "python3"
  },
  "language_info": {
   "codemirror_mode": {
    "name": "ipython",
    "version": 3
   },
   "file_extension": ".py",
   "mimetype": "text/x-python",
   "name": "python",
   "nbconvert_exporter": "python",
   "pygments_lexer": "ipython3",
   "version": "3.10.9"
  }
 },
 "nbformat": 4,
 "nbformat_minor": 2
}
